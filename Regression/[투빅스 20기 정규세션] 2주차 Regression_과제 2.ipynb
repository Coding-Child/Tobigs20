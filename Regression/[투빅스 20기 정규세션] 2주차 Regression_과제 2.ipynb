{
 "cells": [
  {
   "cell_type": "markdown",
   "metadata": {
    "id": "oYVqHpHghxi1"
   },
   "source": [
    "# [과제 2] 회귀분석\n",
    "### - Ch 1, Ch 2를 토대로 자유롭게 회귀분석과 회귀진단을 진행해주세요.\n",
    "### - 주석으로 설명 및 근거 자세하게 달아주시면 감사하겠습니다. :)"
   ]
  },
  {
   "cell_type": "code",
   "execution_count": 27,
   "metadata": {
    "id": "F0T3iPmPhxi_",
    "ExecuteTime": {
     "end_time": "2023-07-26T15:19:29.663343100Z",
     "start_time": "2023-07-26T15:19:29.655345Z"
    }
   },
   "outputs": [],
   "source": [
    "%matplotlib inline \n",
    "\n",
    "import pandas as pd\n",
    "import numpy as np\n",
    "import matplotlib.pyplot as plt\n",
    "import seaborn as sns\n",
    "\n",
    "import warnings\n",
    "warnings.filterwarnings(action='ignore')"
   ]
  },
  {
   "cell_type": "markdown",
   "metadata": {
    "id": "P0uNO4d5hxjA"
   },
   "source": [
    "# Data "
   ]
  },
  {
   "cell_type": "markdown",
   "metadata": {
    "id": "3-xhqe55hxjB"
   },
   "source": [
    "데이터 출처 : https://www.kaggle.com/avikasliwal/used-cars-price-prediction "
   ]
  },
  {
   "cell_type": "markdown",
   "metadata": {
    "id": "NL9G4b7-hxjB"
   },
   "source": [
    "< y > \n",
    "* **Price** : The price of the used car in INR Lakhs.\n",
    "\n",
    "\n",
    "\n",
    "< X > \n",
    "* Name : The brand and model of the car\n",
    "* Location : The location in which the car is being sold or is available for purchase.\n",
    "* Year : The year or edition of the model.\n",
    "* Kilometers_Driven : The total kilometres driven in the car by the previous owner(s) in KM.\n",
    "* Fuel_Type : The type of fuel used by the car. (Petrol, Diesel, Electric, CNG, LPG)\n",
    "* Transmission : The type of transmission used by the car. (Automatic / Manual)\n",
    "* Owner_Type : Whether the ownership is Firsthand, Second hand or other.\n",
    "* Mileage : The standard mileage offered by the car company in kmpl or km/kg\n",
    "* Engine : The displacement volume of the engine in CC.\n",
    "* Power : The maximum power of the engine in bhp.\n",
    "* Seats : The number of seats in the car.\n",
    "* New_Price : The price of a new car of the same model."
   ]
  },
  {
   "cell_type": "code",
   "execution_count": 28,
   "metadata": {
    "colab": {
     "base_uri": "https://localhost:8080/",
     "height": 407
    },
    "id": "4erq13F3hxjC",
    "outputId": "9d870503-1f14-40ab-fb6c-510abcdf231d",
    "ExecuteTime": {
     "end_time": "2023-07-26T15:19:30.896704Z",
     "start_time": "2023-07-26T15:19:30.853704400Z"
    }
   },
   "outputs": [
    {
     "data": {
      "text/plain": "   Unnamed: 0                              Name    Location  Year  \\\n0           0            Maruti Wagon R LXI CNG      Mumbai  2010   \n1           1  Hyundai Creta 1.6 CRDi SX Option        Pune  2015   \n2           2                      Honda Jazz V     Chennai  2011   \n3           3                 Maruti Ertiga VDI     Chennai  2012   \n4           4   Audi A4 New 2.0 TDI Multitronic  Coimbatore  2013   \n\n   Kilometers_Driven Fuel_Type Transmission Owner_Type     Mileage   Engine  \\\n0              72000       CNG       Manual      First  26.6 km/kg   998 CC   \n1              41000    Diesel       Manual      First  19.67 kmpl  1582 CC   \n2              46000    Petrol       Manual      First   18.2 kmpl  1199 CC   \n3              87000    Diesel       Manual      First  20.77 kmpl  1248 CC   \n4              40670    Diesel    Automatic     Second   15.2 kmpl  1968 CC   \n\n       Power  Seats  New_Price  Price  \n0  58.16 bhp    5.0        NaN   1.75  \n1  126.2 bhp    5.0        NaN  12.50  \n2   88.7 bhp    5.0  8.61 Lakh   4.50  \n3  88.76 bhp    7.0        NaN   6.00  \n4  140.8 bhp    5.0        NaN  17.74  ",
      "text/html": "<div>\n<style scoped>\n    .dataframe tbody tr th:only-of-type {\n        vertical-align: middle;\n    }\n\n    .dataframe tbody tr th {\n        vertical-align: top;\n    }\n\n    .dataframe thead th {\n        text-align: right;\n    }\n</style>\n<table border=\"1\" class=\"dataframe\">\n  <thead>\n    <tr style=\"text-align: right;\">\n      <th></th>\n      <th>Unnamed: 0</th>\n      <th>Name</th>\n      <th>Location</th>\n      <th>Year</th>\n      <th>Kilometers_Driven</th>\n      <th>Fuel_Type</th>\n      <th>Transmission</th>\n      <th>Owner_Type</th>\n      <th>Mileage</th>\n      <th>Engine</th>\n      <th>Power</th>\n      <th>Seats</th>\n      <th>New_Price</th>\n      <th>Price</th>\n    </tr>\n  </thead>\n  <tbody>\n    <tr>\n      <th>0</th>\n      <td>0</td>\n      <td>Maruti Wagon R LXI CNG</td>\n      <td>Mumbai</td>\n      <td>2010</td>\n      <td>72000</td>\n      <td>CNG</td>\n      <td>Manual</td>\n      <td>First</td>\n      <td>26.6 km/kg</td>\n      <td>998 CC</td>\n      <td>58.16 bhp</td>\n      <td>5.0</td>\n      <td>NaN</td>\n      <td>1.75</td>\n    </tr>\n    <tr>\n      <th>1</th>\n      <td>1</td>\n      <td>Hyundai Creta 1.6 CRDi SX Option</td>\n      <td>Pune</td>\n      <td>2015</td>\n      <td>41000</td>\n      <td>Diesel</td>\n      <td>Manual</td>\n      <td>First</td>\n      <td>19.67 kmpl</td>\n      <td>1582 CC</td>\n      <td>126.2 bhp</td>\n      <td>5.0</td>\n      <td>NaN</td>\n      <td>12.50</td>\n    </tr>\n    <tr>\n      <th>2</th>\n      <td>2</td>\n      <td>Honda Jazz V</td>\n      <td>Chennai</td>\n      <td>2011</td>\n      <td>46000</td>\n      <td>Petrol</td>\n      <td>Manual</td>\n      <td>First</td>\n      <td>18.2 kmpl</td>\n      <td>1199 CC</td>\n      <td>88.7 bhp</td>\n      <td>5.0</td>\n      <td>8.61 Lakh</td>\n      <td>4.50</td>\n    </tr>\n    <tr>\n      <th>3</th>\n      <td>3</td>\n      <td>Maruti Ertiga VDI</td>\n      <td>Chennai</td>\n      <td>2012</td>\n      <td>87000</td>\n      <td>Diesel</td>\n      <td>Manual</td>\n      <td>First</td>\n      <td>20.77 kmpl</td>\n      <td>1248 CC</td>\n      <td>88.76 bhp</td>\n      <td>7.0</td>\n      <td>NaN</td>\n      <td>6.00</td>\n    </tr>\n    <tr>\n      <th>4</th>\n      <td>4</td>\n      <td>Audi A4 New 2.0 TDI Multitronic</td>\n      <td>Coimbatore</td>\n      <td>2013</td>\n      <td>40670</td>\n      <td>Diesel</td>\n      <td>Automatic</td>\n      <td>Second</td>\n      <td>15.2 kmpl</td>\n      <td>1968 CC</td>\n      <td>140.8 bhp</td>\n      <td>5.0</td>\n      <td>NaN</td>\n      <td>17.74</td>\n    </tr>\n  </tbody>\n</table>\n</div>"
     },
     "execution_count": 28,
     "metadata": {},
     "output_type": "execute_result"
    }
   ],
   "source": [
    "# Load Data \n",
    "data = pd.read_csv(\"assignment2_data.csv\")\n",
    "data.head()"
   ]
  },
  {
   "cell_type": "code",
   "execution_count": 29,
   "metadata": {
    "colab": {
     "base_uri": "https://localhost:8080/",
     "height": 385
    },
    "id": "YNDm_FaH_S7J",
    "outputId": "197c9e96-4f7e-4d38-a000-f223ce2c59b9",
    "ExecuteTime": {
     "end_time": "2023-07-26T15:19:31.226261400Z",
     "start_time": "2023-07-26T15:19:31.183722200Z"
    }
   },
   "outputs": [
    {
     "data": {
      "text/plain": "Unnamed: 0              0\nName                    0\nLocation                0\nYear                    0\nKilometers_Driven       0\nFuel_Type               0\nTransmission            0\nOwner_Type              0\nMileage                 2\nEngine                 36\nPower                1104\nSeats                  42\nNew_Price            5195\nPrice                   0\ndtype: int64"
     },
     "execution_count": 29,
     "metadata": {},
     "output_type": "execute_result"
    }
   ],
   "source": [
    "# Extract the numerical part of 'Mileage', 'Engine', and 'Power'\n",
    "data['Mileage'] = data['Mileage'].str.extract(r'(\\d+.\\d+)').astype(float)\n",
    "data['Engine'] = data['Engine'].str.extract(r'(\\d+)').astype(float)\n",
    "data['Power'] = data['Power'].str.extract(r'(\\d+.\\d+)').astype(float)\n",
    "\n",
    "# Check for missing values\n",
    "data.isnull().sum()"
   ]
  },
  {
   "cell_type": "code",
   "execution_count": 30,
   "metadata": {
    "id": "d-J1QpWR_WYh",
    "ExecuteTime": {
     "end_time": "2023-07-26T15:19:32.655522500Z",
     "start_time": "2023-07-26T15:19:31.655349Z"
    }
   },
   "outputs": [
    {
     "data": {
      "text/plain": "(0.008171764479125718, 0.12257537561741362)"
     },
     "execution_count": 30,
     "metadata": {},
     "output_type": "execute_result"
    }
   ],
   "source": [
    "from sklearn.linear_model import LinearRegression\n",
    "from sklearn.model_selection import train_test_split\n",
    "from sklearn.metrics import mean_squared_error\n",
    "\n",
    "# Drop the 'New Price' columns\n",
    "data = data.drop(columns=['New_Price'])\n",
    "\n",
    "# Fill missing values with mean\n",
    "data['Mileage'].fillna(data['Mileage'].mean(), inplace=True)\n",
    "data['Engine'].fillna(data['Engine'].mean(), inplace=True)\n",
    "data['Power'].fillna(data['Power'].mean(), inplace=True)\n",
    "data['Seats'].fillna(data['Seats'].mean(), inplace=True)\n",
    "\n",
    "v = ['Name', 'Location', 'Fuel_Type', 'Transmission', 'Owner_Type']\n",
    "data = pd.get_dummies(data, columns=v, drop_first=True)\n",
    "data = data.drop(columns=['Unnamed: 0'])\n",
    "data['Price'] = np.log1p(data['Price'])\n",
    "\n",
    "# Split the data\n",
    "X = data.drop(columns=['Price'])\n",
    "y = data['Price']\n",
    "\n",
    "X_train, X_test, y_train, y_test = train_test_split(X, y, test_size=0.2, random_state=42)\n",
    "\n",
    "# Linear Regression Model Fitting\n",
    "model = LinearRegression()\n",
    "model.fit(X_train, y_train)\n",
    "\n",
    "# Predict\n",
    "y_train_pred = model.predict(X_train)\n",
    "y_test_pred = model.predict(X_test)\n",
    "\n",
    "# Compute MSE\n",
    "mse_train = mean_squared_error(y_train, y_train_pred)\n",
    "mse_test = mean_squared_error(y_test, y_test_pred)\n",
    "\n",
    "mse_train, mse_test"
   ]
  },
  {
   "cell_type": "code",
   "execution_count": 32,
   "outputs": [
    {
     "data": {
      "text/plain": "<Figure size 1400x600 with 2 Axes>",
      "image/png": "[encoded data removed]"
     },
     "metadata": {},
     "output_type": "display_data"
    },
    {
     "data": {
      "text/plain": "(6.248293678925909e-14, 0.003359341073876621)"
     },
     "execution_count": 32,
     "metadata": {},
     "output_type": "execute_result"
    }
   ],
   "source": [
    "# Compute residuals\n",
    "residuals_train = y_train - y_train_pred\n",
    "residuals_test = y_test - y_test_pred\n",
    "\n",
    "# Plot histograms of residuals\n",
    "fig, axs = plt.subplots(1, 2, figsize=(14, 6))\n",
    "\n",
    "sns.histplot(residuals_train, kde=True, ax=axs[0], color='blue')\n",
    "axs[0].set_title('Train Residuals')\n",
    "\n",
    "sns.histplot(residuals_test, kde=True, ax=axs[1], color='red')\n",
    "axs[1].set_title('Test Residuals')\n",
    "\n",
    "plt.show()\n",
    "\n",
    "# Check the mean of residuals\n",
    "residuals_train_mean = residuals_train.mean()\n",
    "residuals_test_mean = residuals_test.mean()\n",
    "\n",
    "residuals_train_mean, residuals_test_mean"
   ],
   "metadata": {
    "collapsed": false,
    "ExecuteTime": {
     "end_time": "2023-07-26T15:20:33.582983800Z",
     "start_time": "2023-07-26T15:20:32.975504300Z"
    }
   }
  },
  {
   "cell_type": "code",
   "execution_count": null,
   "outputs": [],
   "source": [
    "\"\"\"\n",
    "1. 히스토그램을 보면, 잔차의 분포가 양쪽으로 조금 치우친 것을 볼 수 있지만, 대체로 정규 분포를 따르는 것으로 보인다..\n",
    "\n",
    "2. 잔차의 평균을 확인해보면, 훈련 데이터의 잔차 평균은 거의 0에 가깝고, 테스트 데이터의 잔차 평균은 약 0.0086이다.\n",
    "   회귀 모델의 가정 중 하나는 오차의 평균이 0이라는것이므로, 이 결과는 모델이 이 가정을 잘 만족하고 있음을 나타낸다.\n",
    "\n",
    "따라서, 이 회귀 모델은 데이터에 잘 적합되었음을 확인할 수 있다.\n",
    "\"\"\""
   ],
   "metadata": {
    "collapsed": false
   }
  }
 ],
 "metadata": {
  "colab": {
   "collapsed_sections": [],
   "name": "Regression_과제2",
   "provenance": []
  },
  "kernelspec": {
   "display_name": "Python 3",
   "language": "python",
   "name": "python3"
  },
  "language_info": {
   "codemirror_mode": {
    "name": "ipython",
    "version": 3
   },
   "file_extension": ".py",
   "mimetype": "text/x-python",
   "name": "python",
   "nbconvert_exporter": "python",
   "pygments_lexer": "ipython3",
   "version": "3.8.5"
  }
 },
 "nbformat": 4,
 "nbformat_minor": 1
}
