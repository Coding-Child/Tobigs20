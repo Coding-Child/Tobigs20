{
 "cells": [
  {
   "cell_type": "markdown",
   "metadata": {
    "id": "fu39oBW0RVn5"
   },
   "source": [
    "# [과제 3] 로지스틱 회귀분석\n",
    "### - sklearn 패키지를 사용해 로지스틱 회귀분석을 진행해주세요.\n",
    "### - 성능지표를 계산하고 이에 대해 해석해주세요.\n",
    "### - 성능 개선을 시도해주세요. (어떠한 성능지표를 기준으로 개선을 시도했는지, 그 이유도 함께 적어주세요.)\n",
    "### - 주석으로 설명 및 근거 자세하게 달아주시면 감사하겠습니다. :)"
   ]
  },
  {
   "cell_type": "markdown",
   "metadata": {
    "id": "8rN2SWezRVn_"
   },
   "source": [
    "## Data "
   ]
  },
  {
   "cell_type": "markdown",
   "metadata": {
    "id": "Y7SYKNvQRVn_"
   },
   "source": [
    "출처 : https://www.kaggle.com/mlg-ulb/creditcardfraud\n",
    "\n",
    "\n",
    "* V1 ~ V28 : 비식별화 된 개인정보 \n",
    "* **Class** : Target 변수  \n",
    "  - 1 : fraudulent transactions (사기)\n",
    "  - 0 : otherwise "
   ]
  },
  {
   "cell_type": "code",
   "execution_count": 35,
   "metadata": {
    "id": "Uvjw2fTCRVoA",
    "ExecuteTime": {
     "end_time": "2023-07-26T15:26:06.766532600Z",
     "start_time": "2023-07-26T15:26:06.750524300Z"
    }
   },
   "outputs": [],
   "source": [
    "import pandas as pd\n",
    "import numpy as np\n",
    "import seaborn as sns\n",
    "import matplotlib.pyplot as plt\n",
    "import warnings\n",
    "warnings.filterwarnings(action='ignore')"
   ]
  },
  {
   "cell_type": "code",
   "execution_count": 36,
   "metadata": {
    "id": "znQit70ZRVoA",
    "ExecuteTime": {
     "end_time": "2023-07-26T15:26:07.045840700Z",
     "start_time": "2023-07-26T15:26:06.933816100Z"
    }
   },
   "outputs": [],
   "source": [
    "data = pd.read_csv(\"assignment3_creditcard.csv\")"
   ]
  },
  {
   "cell_type": "code",
   "execution_count": 37,
   "metadata": {
    "colab": {
     "base_uri": "https://localhost:8080/",
     "height": 220
    },
    "id": "v98OeXW5RVoB",
    "outputId": "42afeddc-07e6-4224-95ee-08b455f72475",
    "ExecuteTime": {
     "end_time": "2023-07-26T15:26:07.458075100Z",
     "start_time": "2023-07-26T15:26:07.447074600Z"
    }
   },
   "outputs": [
    {
     "data": {
      "text/plain": "         V1        V2        V3        V4        V5        V6        V7  \\\n0 -1.848212  2.384900  0.379573  1.048381 -0.845070  2.537837 -4.542983   \n1  2.071805 -0.477943 -1.444444 -0.548657  0.010036 -0.582242 -0.042878   \n2 -2.985294 -2.747472  1.194068 -0.003036 -1.151041 -0.263559  0.553500   \n3 -1.479452  1.542874  0.290895  0.838142 -0.529290 -0.717661  0.484516   \n4 -0.281976 -0.309699 -2.162299 -0.851514  0.106167 -1.483888  1.930994   \n\n          V8        V9       V10  ...       V20       V21       V22       V23  \\\n0 -10.201458 -1.504967 -2.234167  ...  2.585817 -5.291690  0.859364  0.423231   \n1  -0.247160  1.171923 -0.342382  ... -0.077306  0.042858  0.390125  0.041569   \n2   0.635600  0.438545 -1.806488  ...  1.345776  0.373760 -0.385777  1.197596   \n3   0.545092 -0.780767  0.324804  ...  0.038397  0.116771  0.405560 -0.116453   \n4  -0.843049 -1.249272  1.079608  ... -0.875516 -0.004199  1.015108 -0.026748   \n\n        V24       V25       V26       V27       V28  Class  \n0 -0.506985  1.020052 -0.627751 -0.017753  0.280982      0  \n1  0.598427  0.098803  0.979686 -0.093244 -0.065615      0  \n2  0.407229  0.008013  0.762362 -0.299024 -0.303929      0  \n3  0.541275 -0.216665 -0.415578  0.027126 -0.150347      0  \n4  0.077115 -1.468822  0.751700  0.496732  0.331001      0  \n\n[5 rows x 29 columns]",
      "text/html": "<div>\n<style scoped>\n    .dataframe tbody tr th:only-of-type {\n        vertical-align: middle;\n    }\n\n    .dataframe tbody tr th {\n        vertical-align: top;\n    }\n\n    .dataframe thead th {\n        text-align: right;\n    }\n</style>\n<table border=\"1\" class=\"dataframe\">\n  <thead>\n    <tr style=\"text-align: right;\">\n      <th></th>\n      <th>V1</th>\n      <th>V2</th>\n      <th>V3</th>\n      <th>V4</th>\n      <th>V5</th>\n      <th>V6</th>\n      <th>V7</th>\n      <th>V8</th>\n      <th>V9</th>\n      <th>V10</th>\n      <th>...</th>\n      <th>V20</th>\n      <th>V21</th>\n      <th>V22</th>\n      <th>V23</th>\n      <th>V24</th>\n      <th>V25</th>\n      <th>V26</th>\n      <th>V27</th>\n      <th>V28</th>\n      <th>Class</th>\n    </tr>\n  </thead>\n  <tbody>\n    <tr>\n      <th>0</th>\n      <td>-1.848212</td>\n      <td>2.384900</td>\n      <td>0.379573</td>\n      <td>1.048381</td>\n      <td>-0.845070</td>\n      <td>2.537837</td>\n      <td>-4.542983</td>\n      <td>-10.201458</td>\n      <td>-1.504967</td>\n      <td>-2.234167</td>\n      <td>...</td>\n      <td>2.585817</td>\n      <td>-5.291690</td>\n      <td>0.859364</td>\n      <td>0.423231</td>\n      <td>-0.506985</td>\n      <td>1.020052</td>\n      <td>-0.627751</td>\n      <td>-0.017753</td>\n      <td>0.280982</td>\n      <td>0</td>\n    </tr>\n    <tr>\n      <th>1</th>\n      <td>2.071805</td>\n      <td>-0.477943</td>\n      <td>-1.444444</td>\n      <td>-0.548657</td>\n      <td>0.010036</td>\n      <td>-0.582242</td>\n      <td>-0.042878</td>\n      <td>-0.247160</td>\n      <td>1.171923</td>\n      <td>-0.342382</td>\n      <td>...</td>\n      <td>-0.077306</td>\n      <td>0.042858</td>\n      <td>0.390125</td>\n      <td>0.041569</td>\n      <td>0.598427</td>\n      <td>0.098803</td>\n      <td>0.979686</td>\n      <td>-0.093244</td>\n      <td>-0.065615</td>\n      <td>0</td>\n    </tr>\n    <tr>\n      <th>2</th>\n      <td>-2.985294</td>\n      <td>-2.747472</td>\n      <td>1.194068</td>\n      <td>-0.003036</td>\n      <td>-1.151041</td>\n      <td>-0.263559</td>\n      <td>0.553500</td>\n      <td>0.635600</td>\n      <td>0.438545</td>\n      <td>-1.806488</td>\n      <td>...</td>\n      <td>1.345776</td>\n      <td>0.373760</td>\n      <td>-0.385777</td>\n      <td>1.197596</td>\n      <td>0.407229</td>\n      <td>0.008013</td>\n      <td>0.762362</td>\n      <td>-0.299024</td>\n      <td>-0.303929</td>\n      <td>0</td>\n    </tr>\n    <tr>\n      <th>3</th>\n      <td>-1.479452</td>\n      <td>1.542874</td>\n      <td>0.290895</td>\n      <td>0.838142</td>\n      <td>-0.529290</td>\n      <td>-0.717661</td>\n      <td>0.484516</td>\n      <td>0.545092</td>\n      <td>-0.780767</td>\n      <td>0.324804</td>\n      <td>...</td>\n      <td>0.038397</td>\n      <td>0.116771</td>\n      <td>0.405560</td>\n      <td>-0.116453</td>\n      <td>0.541275</td>\n      <td>-0.216665</td>\n      <td>-0.415578</td>\n      <td>0.027126</td>\n      <td>-0.150347</td>\n      <td>0</td>\n    </tr>\n    <tr>\n      <th>4</th>\n      <td>-0.281976</td>\n      <td>-0.309699</td>\n      <td>-2.162299</td>\n      <td>-0.851514</td>\n      <td>0.106167</td>\n      <td>-1.483888</td>\n      <td>1.930994</td>\n      <td>-0.843049</td>\n      <td>-1.249272</td>\n      <td>1.079608</td>\n      <td>...</td>\n      <td>-0.875516</td>\n      <td>-0.004199</td>\n      <td>1.015108</td>\n      <td>-0.026748</td>\n      <td>0.077115</td>\n      <td>-1.468822</td>\n      <td>0.751700</td>\n      <td>0.496732</td>\n      <td>0.331001</td>\n      <td>0</td>\n    </tr>\n  </tbody>\n</table>\n<p>5 rows × 29 columns</p>\n</div>"
     },
     "execution_count": 37,
     "metadata": {},
     "output_type": "execute_result"
    }
   ],
   "source": [
    "data.head()"
   ]
  },
  {
   "cell_type": "code",
   "execution_count": 38,
   "outputs": [
    {
     "data": {
      "text/plain": "V1       0\nV2       0\nV3       0\nV4       0\nV5       0\nV6       0\nV7       0\nV8       0\nV9       0\nV10      0\nV11      0\nV12      0\nV13      0\nV14      0\nV15      0\nV16      0\nV17      0\nV18      0\nV19      0\nV20      0\nV21      0\nV22      0\nV23      0\nV24      0\nV25      0\nV26      0\nV27      0\nV28      0\nClass    0\ndtype: int64"
     },
     "execution_count": 38,
     "metadata": {},
     "output_type": "execute_result"
    }
   ],
   "source": [
    "# Check for missing value\n",
    "missing_value = data.isnull().sum()\n",
    "missing_value"
   ],
   "metadata": {
    "collapsed": false,
    "ExecuteTime": {
     "end_time": "2023-07-26T15:26:07.939346400Z",
     "start_time": "2023-07-26T15:26:07.931337100Z"
    }
   }
  },
  {
   "cell_type": "code",
   "execution_count": 39,
   "outputs": [],
   "source": [
    "from sklearn.model_selection import train_test_split\n",
    "\n",
    "X = data.drop(columns=['Class'])\n",
    "y = data['Class']\n",
    "\n",
    "X_train, X_test, y_train, y_test = train_test_split(X, y, test_size=0.2, random_state=42)"
   ],
   "metadata": {
    "collapsed": false,
    "ExecuteTime": {
     "end_time": "2023-07-26T15:26:08.343056500Z",
     "start_time": "2023-07-26T15:26:08.324143800Z"
    }
   }
  },
  {
   "cell_type": "code",
   "execution_count": 40,
   "outputs": [
    {
     "name": "stdout",
     "output_type": "stream",
     "text": [
      "Acc: 0.9987796373779637\n",
      "Precision: 1.0\n",
      "Recall: 0.8541666666666666\n",
      "f1: 0.9213483146067416\n",
      "AUROC: 0.9270833333333333\n"
     ]
    }
   ],
   "source": [
    "from sklearn.linear_model import LogisticRegression\n",
    "from sklearn.metrics import accuracy_score, precision_score, recall_score, f1_score, roc_auc_score, confusion_matrix\n",
    "\n",
    "# Fit the Regression Model\n",
    "model = LogisticRegression()\n",
    "model.fit(X_train, y_train)\n",
    "\n",
    "y_train_pred = model.predict(X_train)\n",
    "y_test_pred = model.predict(X_test)\n",
    "\n",
    "# Compute perform metrics\n",
    "accuracy = accuracy_score(y_test, y_test_pred)\n",
    "precision = precision_score(y_test, y_test_pred)\n",
    "recall = recall_score(y_test, y_test_pred)\n",
    "f1 = f1_score(y_test, y_test_pred)\n",
    "roc_auc = roc_auc_score(y_test, y_test_pred)\n",
    "\n",
    "print(\"Acc:\", accuracy)\n",
    "print(\"Precision:\", precision)\n",
    "print(\"Recall:\", recall)\n",
    "print(\"f1:\", f1)\n",
    "print(\"AUROC:\", roc_auc)"
   ],
   "metadata": {
    "collapsed": false,
    "ExecuteTime": {
     "end_time": "2023-07-26T15:26:08.998527400Z",
     "start_time": "2023-07-26T15:26:08.936668800Z"
    }
   }
  },
  {
   "cell_type": "code",
   "execution_count": 41,
   "outputs": [
    {
     "data": {
      "text/plain": "<Figure size 800x600 with 2 Axes>",
      "image/png": "[encoded data removed]"
     },
     "metadata": {},
     "output_type": "display_data"
    }
   ],
   "source": [
    "# Compute Confusion Matrix\n",
    "cm = confusion_matrix(y_test, y_test_pred)\n",
    "\n",
    "# Plot the confusion matrix\n",
    "plt.figure(figsize=(8, 6))\n",
    "sns.heatmap(cm, annot=True, fmt='d', cmap='Blues')\n",
    "plt.xlabel('Predicted')\n",
    "plt.ylabel('True')\n",
    "plt.title('Confusion Matrix of the Logistic Regression Model with Balanced Class Weights')\n",
    "plt.show()"
   ],
   "metadata": {
    "collapsed": false,
    "ExecuteTime": {
     "end_time": "2023-07-26T15:26:09.577277600Z",
     "start_time": "2023-07-26T15:26:09.450633200Z"
    }
   }
  },
  {
   "cell_type": "markdown",
   "source": [
    "Confusion Matrix를 계산한 결과, TN, FP, FN, TP의 값은 각각 5688, 0, 7, 41이다.\n",
    "\n",
    "아래를 통해 모델의 성능을 더 자세히 이해할 수 있다.\n",
    "\n",
    "- True Negative(TN): 실제로 사기가 아닌 거래를 사기가 아닌 거래라고 정확하게 예측한 경우, 즉, 올바르게 분류된 정상 거래의 수\n",
    "\n",
    "- False Positive(FP): 실제로는 사기가 아닌 거래를 사기 거래라고 잘못 예측한 경우, 즉, 잘못 분류된 정상 거래의 수\n",
    "\n",
    "- False Negative(FN): 실제로 사기인 거래를 사기가 아닌 거래라고 잘못 예측한 경우, 즉, 놓친 사기 거래의 수\n",
    "\n",
    "- True Positive(TP): 실제로 사기인 거래를 사기 거래라고 정확하게 예측한 경우, 즉, 올바르게 분류된 사기 거래의 수\n",
    "\n",
    "신용 카드 사기 예측 문제의 경우, 사기를 제대로 예측하는 것이 중요하므로 재현율을 성능 지표로 삼아 성능 개선 진행\n",
    "LogisticRegression의 인자값인 class_weight를 'balanced'로 설정하여 클래스의 빈도에 반비례 하도록 가중치를 적용하여 불균형 문제 해결"
   ],
   "metadata": {
    "collapsed": false
   }
  },
  {
   "cell_type": "code",
   "execution_count": 42,
   "outputs": [
    {
     "name": "stdout",
     "output_type": "stream",
     "text": [
      "Acc: 0.9802998605299861\n",
      "Precision: 0.2903225806451613\n",
      "Recall: 0.9375\n",
      "f1: 0.44334975369458135\n",
      "AUROC: 0.9590805203938115\n"
     ]
    }
   ],
   "source": [
    "model2 = LogisticRegression(class_weight='balanced')\n",
    "model2.fit(X_train, y_train)\n",
    "\n",
    "y_train_pred2 = model2.predict(X_train)\n",
    "y_test_pred2 = model2.predict(X_test)\n",
    "\n",
    "accuracy2 = accuracy_score(y_test, y_test_pred2)\n",
    "precision2 = precision_score(y_test, y_test_pred2)\n",
    "recall2 = recall_score(y_test, y_test_pred2)\n",
    "f12 = f1_score(y_test, y_test_pred2)\n",
    "roc_auc2 = roc_auc_score(y_test, y_test_pred2)\n",
    "\n",
    "cm2 = confusion_matrix(y_test, y_test_pred2)\n",
    "tn2, fp2, fn2, tp2 = cm2.ravel()\n",
    "\n",
    "print(\"Acc:\", accuracy2)\n",
    "print(\"Precision:\", precision2)\n",
    "print(\"Recall:\", recall2)\n",
    "print(\"f1:\", f12)\n",
    "print(\"AUROC:\", roc_auc2)"
   ],
   "metadata": {
    "collapsed": false,
    "ExecuteTime": {
     "end_time": "2023-07-26T15:26:10.874193900Z",
     "start_time": "2023-07-26T15:26:10.780323300Z"
    }
   }
  },
  {
   "cell_type": "code",
   "execution_count": 43,
   "outputs": [
    {
     "data": {
      "text/plain": "<Figure size 800x600 with 2 Axes>",
      "image/png": "[encoded data removed]"
     },
     "metadata": {},
     "output_type": "display_data"
    }
   ],
   "source": [
    "# Plot the confusion matrix\n",
    "plt.figure(figsize=(8, 6))\n",
    "sns.heatmap(cm2, annot=True, fmt='d', cmap='Blues')\n",
    "plt.xlabel('Predicted')\n",
    "plt.ylabel('True')\n",
    "plt.title('Confusion Matrix of the Logistic Regression Model with Balanced Class Weights')\n",
    "plt.show()"
   ],
   "metadata": {
    "collapsed": false,
    "ExecuteTime": {
     "end_time": "2023-07-26T15:26:12.867393300Z",
     "start_time": "2023-07-26T15:26:12.737654100Z"
    }
   }
  },
  {
   "cell_type": "code",
   "execution_count": null,
   "outputs": [],
   "source": [
    "\"\"\"\n",
    "이 결과는 모델이 대체로 높은 성능을 보이고 있음을 나타낸다. 특히 재현율이 매우 높아졌으며, 이는 모델이 사기 거래를 더 잘 예측하고 있다는 것을 의미하며,\n",
    "데이터의 불균형 문제를 해결하는 것이 재현율에 영향을 미쳤음을 알 수 있다. 그러나 정밀도가 매우 낮아졌다.\n",
    "이는 모델이 많은 수의 정상 거래를 잘못 예측하고 있음을 나타낸다.\n",
    "\n",
    "정밀도 하락의 요인은 다음과 같을 수 있다.\n",
    "    1. 'balanced' 클래스 가중치를 사용하면 불균형한 클래스 중 작은 클래스에 더 많은 가중치를 부여하게 되어,\n",
    "       더 큰 클래스(이 경우 '사기가 아닌 거래')의 일부를 잘못 분류할 가능성이 있다.\n",
    "    2. 이로 인해 '사기가 아닌 거래'를 '사기 거래'로 잘못 예측하면서 False Positive가 증가하게 되고, 이로 인해 정밀도가 감소하게 된다.\n",
    "\n",
    "그러나 재현율이 더 중요한 지표가 될 수 있다. 이는 실제 True인 것 중에서 모델이 True라고 예측한 것의 비율을 나타내며, 이 경우 실제 '사기 거래' 중에서\n",
    "얼마나 많은 거래를 '사기 거래'로 정확하게 예측했는지를 나타낸다.\n",
    "\"\"\""
   ],
   "metadata": {
    "collapsed": false
   }
  }
 ],
 "metadata": {
  "colab": {
   "collapsed_sections": [],
   "name": "Regression_과제3",
   "provenance": []
  },
  "kernelspec": {
   "display_name": "Python 3",
   "language": "python",
   "name": "python3"
  },
  "language_info": {
   "codemirror_mode": {
    "name": "ipython",
    "version": 3
   },
   "file_extension": ".py",
   "mimetype": "text/x-python",
   "name": "python",
   "nbconvert_exporter": "python",
   "pygments_lexer": "ipython3",
   "version": "3.8.5"
  }
 },
 "nbformat": 4,
 "nbformat_minor": 1
}
