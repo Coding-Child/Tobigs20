{
 "cells": [
  {
   "cell_type": "markdown",
   "metadata": {},
   "source": [
    "# DecisionTree Assignment - 20기 OOO\n",
    "\n",
    "물음표 친 부분을 채우고 코드에 대한 주석을 자세하게 달아주세요!"
   ]
  },
  {
   "cell_type": "markdown",
   "metadata": {},
   "source": [
    "# Data Loading"
   ]
  },
  {
   "cell_type": "code",
   "execution_count": 1,
   "metadata": {
    "ExecuteTime": {
     "end_time": "2023-08-08T04:34:47.835729503Z",
     "start_time": "2023-08-08T04:34:47.687508696Z"
    }
   },
   "outputs": [],
   "source": [
    "import pandas as pd \n",
    "import numpy as np"
   ]
  },
  {
   "cell_type": "code",
   "execution_count": 2,
   "metadata": {
    "ExecuteTime": {
     "end_time": "2023-08-08T04:34:48.299552254Z",
     "start_time": "2023-08-08T04:34:47.835549316Z"
    }
   },
   "outputs": [
    {
     "data": {
      "text/plain": "            age  income student credit_rating class_buys_computer\n0         youth    high      no          fair                  no\n1         youth    high      no     excellent                  no\n2   middle_aged    high      no          fair                 yes\n3        senior  medium      no          fair                 yes\n4        senior     low     yes          fair                 yes\n5        senior     low     yes     excellent                  no\n6   middle_aged     low     yes     excellent                 yes\n7         youth  medium      no          fair                  no\n8         youth     low     yes          fair                 yes\n9        senior  medium     yes          fair                 yes\n10        youth  medium     yes     excellent                 yes\n11  middle_aged  medium      no     excellent                 yes\n12  middle_aged    high     yes          fair                 yes\n13       senior  medium      no     excellent                  no",
      "text/html": "<div>\n<style scoped>\n    .dataframe tbody tr th:only-of-type {\n        vertical-align: middle;\n    }\n\n    .dataframe tbody tr th {\n        vertical-align: top;\n    }\n\n    .dataframe thead th {\n        text-align: right;\n    }\n</style>\n<table border=\"1\" class=\"dataframe\">\n  <thead>\n    <tr style=\"text-align: right;\">\n      <th></th>\n      <th>age</th>\n      <th>income</th>\n      <th>student</th>\n      <th>credit_rating</th>\n      <th>class_buys_computer</th>\n    </tr>\n  </thead>\n  <tbody>\n    <tr>\n      <th>0</th>\n      <td>youth</td>\n      <td>high</td>\n      <td>no</td>\n      <td>fair</td>\n      <td>no</td>\n    </tr>\n    <tr>\n      <th>1</th>\n      <td>youth</td>\n      <td>high</td>\n      <td>no</td>\n      <td>excellent</td>\n      <td>no</td>\n    </tr>\n    <tr>\n      <th>2</th>\n      <td>middle_aged</td>\n      <td>high</td>\n      <td>no</td>\n      <td>fair</td>\n      <td>yes</td>\n    </tr>\n    <tr>\n      <th>3</th>\n      <td>senior</td>\n      <td>medium</td>\n      <td>no</td>\n      <td>fair</td>\n      <td>yes</td>\n    </tr>\n    <tr>\n      <th>4</th>\n      <td>senior</td>\n      <td>low</td>\n      <td>yes</td>\n      <td>fair</td>\n      <td>yes</td>\n    </tr>\n    <tr>\n      <th>5</th>\n      <td>senior</td>\n      <td>low</td>\n      <td>yes</td>\n      <td>excellent</td>\n      <td>no</td>\n    </tr>\n    <tr>\n      <th>6</th>\n      <td>middle_aged</td>\n      <td>low</td>\n      <td>yes</td>\n      <td>excellent</td>\n      <td>yes</td>\n    </tr>\n    <tr>\n      <th>7</th>\n      <td>youth</td>\n      <td>medium</td>\n      <td>no</td>\n      <td>fair</td>\n      <td>no</td>\n    </tr>\n    <tr>\n      <th>8</th>\n      <td>youth</td>\n      <td>low</td>\n      <td>yes</td>\n      <td>fair</td>\n      <td>yes</td>\n    </tr>\n    <tr>\n      <th>9</th>\n      <td>senior</td>\n      <td>medium</td>\n      <td>yes</td>\n      <td>fair</td>\n      <td>yes</td>\n    </tr>\n    <tr>\n      <th>10</th>\n      <td>youth</td>\n      <td>medium</td>\n      <td>yes</td>\n      <td>excellent</td>\n      <td>yes</td>\n    </tr>\n    <tr>\n      <th>11</th>\n      <td>middle_aged</td>\n      <td>medium</td>\n      <td>no</td>\n      <td>excellent</td>\n      <td>yes</td>\n    </tr>\n    <tr>\n      <th>12</th>\n      <td>middle_aged</td>\n      <td>high</td>\n      <td>yes</td>\n      <td>fair</td>\n      <td>yes</td>\n    </tr>\n    <tr>\n      <th>13</th>\n      <td>senior</td>\n      <td>medium</td>\n      <td>no</td>\n      <td>excellent</td>\n      <td>no</td>\n    </tr>\n  </tbody>\n</table>\n</div>"
     },
     "execution_count": 2,
     "metadata": {},
     "output_type": "execute_result"
    }
   ],
   "source": [
    "pd_data = pd.read_csv('https://raw.githubusercontent.com/AugustLONG/ML01/master/01decisiontree/AllElectronics.csv')\n",
    "pd_data.drop(\"RID\",axis=1, inplace = True) #RID는 그냥 순서라서 삭제\n",
    "pd_data"
   ]
  },
  {
   "cell_type": "markdown",
   "metadata": {},
   "source": [
    "## Gini 계수를 구하는 함수 만들기"
   ]
  },
  {
   "cell_type": "markdown",
   "metadata": {},
   "source": [
    "<img src=\"gini.png\" width=\"200\">\n",
    "\n",
    "- Input: df(데이터), label(타겟변수명)\n",
    "- 해당 결과는 아래와 같이 나와야 합니다.\n",
    "\n",
    "- 지니계수는 데이터의 통계적 분산 정도를 정량화 해서 표현한 값이다.\n",
    "- 어떤 집합의 gini index가 높을수록 그 집단의 데이터가 분산되어 있음을 확인할 수 있다."
   ]
  },
  {
   "cell_type": "code",
   "execution_count": 3,
   "metadata": {
    "ExecuteTime": {
     "end_time": "2023-08-08T04:34:49.261988842Z",
     "start_time": "2023-08-08T04:34:49.252033306Z"
    }
   },
   "outputs": [],
   "source": [
    "def get_gini(df, label):\n",
    "    # Calculate the proportions of each class\n",
    "    proportions = df[label].value_counts(normalize=True)\n",
    "    gini = 1 - sum(proportions**2)\n",
    "    return gini"
   ]
  },
  {
   "cell_type": "code",
   "execution_count": 4,
   "metadata": {
    "ExecuteTime": {
     "end_time": "2023-08-08T04:34:49.698919752Z",
     "start_time": "2023-08-08T04:34:49.693961650Z"
    }
   },
   "outputs": [
    {
     "data": {
      "text/plain": "0.4591836734693877"
     },
     "execution_count": 4,
     "metadata": {},
     "output_type": "execute_result"
    }
   ],
   "source": [
    "get_gini(pd_data,'class_buys_computer')"
   ]
  },
  {
   "cell_type": "markdown",
   "metadata": {},
   "source": [
    "## Feature의 Class를 이진 분류로 만들기\n",
    "- ex) {A,B,C} -> ({A}, {B,C}), ({B}, {A,C}), ({C}, {A,B})"
   ]
  },
  {
   "cell_type": "markdown",
   "metadata": {},
   "source": [
    "- Input: df(데이터), attribute(Gini index를 구하고자 하는 변수명)\n",
    "- Income 변수를 결과로 출력해주세요."
   ]
  },
  {
   "cell_type": "code",
   "execution_count": 5,
   "metadata": {
    "ExecuteTime": {
     "end_time": "2023-08-08T04:34:50.514440604Z",
     "start_time": "2023-08-08T04:34:50.509698164Z"
    }
   },
   "outputs": [],
   "source": [
    "from itertools import combinations\n",
    "\n",
    "def get_binary_split(df, attribute):\n",
    "    \n",
    "    uniques = list(df[attribute].unique()) # 속성 데이터 고유값들을 담은 리스트 \n",
    "    binary_splits = list(combinations(uniques, 2))\n",
    "    return binary_splits"
   ]
  },
  {
   "cell_type": "code",
   "execution_count": 6,
   "metadata": {
    "ExecuteTime": {
     "end_time": "2023-08-08T04:34:50.680124787Z",
     "start_time": "2023-08-08T04:34:50.674468244Z"
    }
   },
   "outputs": [
    {
     "data": {
      "text/plain": "[('high', 'medium'), ('high', 'low'), ('medium', 'low')]"
     },
     "execution_count": 6,
     "metadata": {},
     "output_type": "execute_result"
    }
   ],
   "source": [
    "get_binary_split(pd_data,'income')"
   ]
  },
  {
   "cell_type": "markdown",
   "metadata": {},
   "source": [
    "## 모든 이진분류의 경우의 Gini index를 구하는 함수 만들기\n",
    "- 위에서 완성한 두 함수를 사용하여 만들어주세요!\n",
    "- 해당 결과는 아래와 같이 나와야 합니다."
   ]
  },
  {
   "cell_type": "code",
   "execution_count": 7,
   "metadata": {
    "ExecuteTime": {
     "end_time": "2023-08-08T04:34:51.136547598Z",
     "start_time": "2023-08-08T04:34:51.131904312Z"
    }
   },
   "outputs": [],
   "source": [
    "def get_attribute_gini_index(df, attribute, label):\n",
    "    result = {}\n",
    "    binary_split = get_binary_split(df, attribute)\n",
    "    n = len(df)\n",
    "    \n",
    "    for value in df[attribute].unique():\n",
    "        binary_split.append((value,))\n",
    "    \n",
    "    for split in binary_split:\n",
    "        df1 = df[df[attribute].isin(split)]\n",
    "        df2 = df[~df[attribute].isin(split)]\n",
    "        \n",
    "        gini1 = get_gini(df1, label)\n",
    "        gini2 = get_gini(df2, label)\n",
    "        weighted_gini = (len(df1) / n) * gini1 + (len(df2) / n) * gini2\n",
    "        \n",
    "        result[split] = weighted_gini\n",
    "        \n",
    "    return result"
   ]
  },
  {
   "cell_type": "code",
   "execution_count": 8,
   "metadata": {
    "ExecuteTime": {
     "end_time": "2023-08-08T04:34:51.499142706Z",
     "start_time": "2023-08-08T04:34:51.481088873Z"
    }
   },
   "outputs": [
    {
     "data": {
      "text/plain": "{('high', 'medium'): 0.45,\n ('high', 'low'): 0.4583333333333333,\n ('medium', 'low'): 0.4428571428571429,\n ('high',): 0.4428571428571429,\n ('medium',): 0.4583333333333333,\n ('low',): 0.45}"
     },
     "execution_count": 8,
     "metadata": {},
     "output_type": "execute_result"
    }
   ],
   "source": [
    "get_attribute_gini_index(pd_data, 'income', 'class_buys_computer')"
   ]
  },
  {
   "cell_type": "markdown",
   "metadata": {},
   "source": [
    "- 여기서 가장 작은 Gini index값을 가지는 class를 확인합니다."
   ]
  },
  {
   "cell_type": "code",
   "execution_count": 9,
   "metadata": {
    "ExecuteTime": {
     "end_time": "2023-08-08T04:34:52.174710210Z",
     "start_time": "2023-08-08T04:34:52.172560015Z"
    }
   },
   "outputs": [
    {
     "data": {
      "text/plain": "(('high',), 0.4428571428571429)"
     },
     "execution_count": 9,
     "metadata": {},
     "output_type": "execute_result"
    }
   ],
   "source": [
    "min(get_attribute_gini_index(pd_data, 'income', 'class_buys_computer').items())"
   ]
  },
  {
   "cell_type": "code",
   "execution_count": 10,
   "metadata": {
    "ExecuteTime": {
     "end_time": "2023-08-08T04:34:52.520502990Z",
     "start_time": "2023-08-08T04:34:52.515126257Z"
    }
   },
   "outputs": [
    {
     "data": {
      "text/plain": "('high',)"
     },
     "execution_count": 10,
     "metadata": {},
     "output_type": "execute_result"
    }
   ],
   "source": [
    "min(get_attribute_gini_index(pd_data, 'income', 'class_buys_computer').items())[0]"
   ]
  },
  {
   "cell_type": "markdown",
   "metadata": {},
   "source": [
    "## 분류를 하는 데 가장 중요한 변수를 선정하고, 해당 변수의 Gini index를 제시해주세요.\n",
    "- 모든 변수에 대한 Gini index(최소)를 출력해주세요.\n",
    "- 해당 결과는 아래와 같이 나와야 합니다."
   ]
  },
  {
   "cell_type": "code",
   "execution_count": 11,
   "metadata": {
    "ExecuteTime": {
     "end_time": "2023-08-08T04:34:53.141838388Z",
     "start_time": "2023-08-08T04:34:53.121436757Z"
    }
   },
   "outputs": [
    {
     "name": "stdout",
     "output_type": "stream",
     "text": [
      "Minimum Gini Index of age : 0.3571\n",
      "Minimum Gini Index of income : 0.4429\n",
      "Minimum Gini Index of student : 0.3673\n",
      "Minimum Gini Index of credit_rating : 0.4286\n"
     ]
    }
   ],
   "source": [
    "# 변수명 중 마지막에 위치한 label 컬럼 얻기\n",
    "label = pd_data.columns[-1]\n",
    "# label 변수를 제외한 변수명 얻기\n",
    "features = list(pd_data.columns[:-1])\n",
    "\n",
    "for feature in features:\n",
    "    if feature == \"Unnamed: 0\" or feature == label:\n",
    "        continue\n",
    "        \n",
    "    gini_indices = get_attribute_gini_index(pd_data, feature, label)\n",
    "    current_min_gini = min(gini_indices.values())\n",
    "    print(f\"Minimum Gini Index of {feature} : {current_min_gini:.4f}\")\n"
   ]
  },
  {
   "cell_type": "markdown",
   "metadata": {},
   "source": [
    "gini index가 가장 작게 나온 'age'를 가장 중요한 변수로 선정합니다.\n",
    "\n",
    "이어서 해당 변수의 이진 분류된 각 class에 대해 Gini index도 계산합니다."
   ]
  },
  {
   "cell_type": "code",
   "execution_count": 12,
   "metadata": {
    "ExecuteTime": {
     "end_time": "2023-08-08T04:34:54.056626379Z",
     "start_time": "2023-08-08T04:34:54.051210495Z"
    }
   },
   "outputs": [
    {
     "data": {
      "text/plain": "{('youth', 'middle_aged'): 0.45714285714285713,\n ('youth', 'senior'): 0.35714285714285715,\n ('middle_aged', 'senior'): 0.3936507936507937,\n ('youth',): 0.3936507936507937,\n ('middle_aged',): 0.35714285714285715,\n ('senior',): 0.45714285714285713}"
     },
     "execution_count": 12,
     "metadata": {},
     "output_type": "execute_result"
    }
   ],
   "source": [
    "get_attribute_gini_index(pd_data, 'age', 'class_buys_computer')"
   ]
  },
  {
   "cell_type": "markdown",
   "metadata": {},
   "source": [
    "'age' 변수에서 gini index가 가장 작게 나온 'middle_aged' class를 선정합니다."
   ]
  },
  {
   "cell_type": "markdown",
   "metadata": {},
   "source": [
    "## Entropy 를 구하는 함수 만들기\n",
    "\n",
    "<img src = https://miro.medium.com/max/1122/0*DkWdyGidNSfdT1Nu.png width = \"350\">"
   ]
  },
  {
   "cell_type": "code",
   "execution_count": 13,
   "metadata": {
    "ExecuteTime": {
     "end_time": "2023-08-08T04:34:55.487960884Z",
     "start_time": "2023-08-08T04:34:55.481896242Z"
    }
   },
   "outputs": [],
   "source": [
    "from math import log2\n",
    "\n",
    "def getEntropy(df, feature):\n",
    "    proportions = df[feature].value_counts(normalize=True)\n",
    "    entropy = -sum(proportions * proportions.map(log2))\n",
    "    return entropy"
   ]
  },
  {
   "cell_type": "code",
   "execution_count": 14,
   "outputs": [
    {
     "data": {
      "text/plain": "0.9402859586706311"
     },
     "execution_count": 14,
     "metadata": {},
     "output_type": "execute_result"
    }
   ],
   "source": [
    "getEntropy(pd_data, \"class_buys_computer\")"
   ],
   "metadata": {
    "collapsed": false,
    "ExecuteTime": {
     "end_time": "2023-08-08T04:34:56.631505827Z",
     "start_time": "2023-08-08T04:34:56.589084566Z"
    }
   }
  },
  {
   "cell_type": "code",
   "execution_count": 15,
   "metadata": {
    "ExecuteTime": {
     "end_time": "2023-08-08T04:34:56.632137630Z",
     "start_time": "2023-08-08T04:34:56.631135711Z"
    }
   },
   "outputs": [],
   "source": [
    "# 가장 중요한 변수로 선정된 목표변수를 제외한 다른 변수들에 대해\n",
    "# 각 칼럼별로 엔트로피를 구해주는 함수를 작성해주세요.\n",
    "\n",
    "def getGainA(df, label):\n",
    "        \n",
    "    result = {}\n",
    "    \n",
    "    for feature in df.columns:\n",
    "        if feature == \"Unnamed: 0\" or feature == label:\n",
    "            continue\n",
    "\n",
    "        overall_entropy = getEntropy(df, label)\n",
    "\n",
    "        values = df[feature].unique()\n",
    "\n",
    "        weighted_entropy = 0\n",
    "        for value in values:\n",
    "            subset = df[df[feature] == value]\n",
    "            weight = len(subset) / len(df)\n",
    "            weighted_entropy += weight * getEntropy(subset, label)\n",
    "\n",
    "        gain = overall_entropy - weighted_entropy\n",
    "\n",
    "        result[feature] = gain\n",
    "\n",
    "    return result\n"
   ]
  },
  {
   "cell_type": "code",
   "execution_count": 16,
   "metadata": {
    "scrolled": true,
    "ExecuteTime": {
     "end_time": "2023-08-08T04:34:58.863434007Z",
     "start_time": "2023-08-08T04:34:58.861933229Z"
    }
   },
   "outputs": [
    {
     "data": {
      "text/plain": "{'age': 0.24674981977443933,\n 'income': 0.02922256565895487,\n 'student': 0.15183550136234159,\n 'credit_rating': 0.04812703040826949}"
     },
     "execution_count": 16,
     "metadata": {},
     "output_type": "execute_result"
    }
   ],
   "source": [
    "getGainA(pd_data, \"class_buys_computer\")"
   ]
  },
  {
   "cell_type": "markdown",
   "source": [
    "### PDF문제: 지니계수(Gini index)를 사용하여 최대 깊이 분류 트리(maximum depth classification tree)를 찾으세요."
   ],
   "metadata": {
    "collapsed": false
   }
  },
  {
   "cell_type": "code",
   "execution_count": 22,
   "outputs": [],
   "source": [
    "class DecisionNode:\n",
    "    \"\"\"\n",
    "    Class representing a decision node in the decision tree.\n",
    "    \"\"\"\n",
    "    def __init__(self, feature=None, threshold=None, data=None, value=None, true_branch=None, false_branch=None):\n",
    "        self.feature = feature  # feature index used for the decision\n",
    "        self.threshold = threshold  # threshold value for the decision\n",
    "        self.data = data  # data in the node\n",
    "        self.value = value  # target value (class) if it's a leaf node\n",
    "        self.true_branch = true_branch  # subtree when the decision is True\n",
    "        self.false_branch = false_branch  # subtree when the decision is False\n",
    "\n",
    "def build_tree(df, label_column, depth=0, max_depth=None):\n",
    "    \"\"\"\n",
    "    Recursive function to build the decision tree.\n",
    "    \"\"\"\n",
    "    # Get the unique values (classes) and their counts\n",
    "    unique_classes = df[label_column].unique()\n",
    "    \n",
    "    # If the data is pure or the max depth is reached, return a leaf node\n",
    "    if len(unique_classes) == 1 or (max_depth is not None and depth == max_depth):\n",
    "        return DecisionNode(value=unique_classes[0], data=df)\n",
    "    \n",
    "    # Find the best split based on Gini index\n",
    "    best_gini = float(\"inf\")\n",
    "    best_split_feature = None\n",
    "    best_split_threshold = None\n",
    "    best_split_data = None\n",
    "    \n",
    "    for feature in df.columns:\n",
    "        # Skip the label column\n",
    "        if feature == label_column:\n",
    "            continue\n",
    "        \n",
    "        possible_thresholds = df[feature].unique()\n",
    "        for threshold in possible_thresholds:\n",
    "            df_true = df[df[feature] == threshold]\n",
    "            df_false = df[df[feature] != threshold]\n",
    "            \n",
    "            # Compute the Gini index for this split\n",
    "            gini_true = get_gini(df_true, label_column)\n",
    "            gini_false = get_gini(df_false, label_column)\n",
    "            weighted_gini = (len(df_true) / len(df)) * gini_true + (len(df_false) / len(df)) * gini_false\n",
    "            \n",
    "            if weighted_gini < best_gini:\n",
    "                best_gini = weighted_gini\n",
    "                best_split_feature = feature\n",
    "                best_split_threshold = threshold\n",
    "                best_split_data = (df_true, df_false)\n",
    "    \n",
    "    # If no best split is found, return a leaf node\n",
    "    if best_split_feature is None:\n",
    "        return DecisionNode(value=df[label_column].mode()[0], data=df)\n",
    "    \n",
    "    # Recursively build the true and false subtrees\n",
    "    true_subtree = build_tree(best_split_data[0], label_column, depth + 1, max_depth)\n",
    "    false_subtree = build_tree(best_split_data[1], label_column, depth + 1, max_depth)\n",
    "    \n",
    "    # Return the decision node\n",
    "    return DecisionNode(feature=best_split_feature, threshold=best_split_threshold, data=df,\n",
    "                        true_branch=true_subtree, false_branch=false_subtree)\n",
    "\n",
    "# Function to print the decision tree\n",
    "def print_tree(node, spacing=\"\"):\n",
    "    \"\"\"Recursive function to print the decision tree.\"\"\"\n",
    "    # Base case: leaf node\n",
    "    if node.value is not None:\n",
    "        print(f\"{spacing}Predict {node.value}\")\n",
    "        return\n",
    "\n",
    "    # Print the decision at this node\n",
    "    print(f\"{spacing}[{node.feature} == {node.threshold}]\")\n",
    "\n",
    "    # Call the function recursively on the true and false branches\n",
    "    print(f\"{spacing}--> True:\")\n",
    "    print_tree(node.true_branch, spacing + \"  \")\n",
    "    print(f\"{spacing}--> False:\")\n",
    "    print_tree(node.false_branch, spacing + \"  \")\n",
    "    \n",
    "def tree_depth(node):\n",
    "    if node is None:\n",
    "        return 0\n",
    "    if node.value is not None:\n",
    "        return 1\n",
    "    \n",
    "    return 1 + max(tree_depth(node.true_branch), tree_depth(node.false_branch))"
   ],
   "metadata": {
    "collapsed": false,
    "ExecuteTime": {
     "end_time": "2023-08-08T04:46:17.566392560Z",
     "start_time": "2023-08-08T04:46:17.558305012Z"
    }
   }
  },
  {
   "cell_type": "code",
   "execution_count": 25,
   "outputs": [
    {
     "name": "stdout",
     "output_type": "stream",
     "text": [
      "[age == middle_aged]\n",
      "--> True:\n",
      "  Predict yes\n",
      "--> False:\n",
      "  [student == no]\n",
      "  --> True:\n",
      "    [age == youth]\n",
      "    --> True:\n",
      "      Predict no\n",
      "    --> False:\n",
      "      [credit_rating == fair]\n",
      "      --> True:\n",
      "        Predict yes\n",
      "      --> False:\n",
      "        Predict no\n",
      "  --> False:\n",
      "    [credit_rating == fair]\n",
      "    --> True:\n",
      "      Predict yes\n",
      "    --> False:\n",
      "      [age == senior]\n",
      "      --> True:\n",
      "        Predict no\n",
      "      --> False:\n",
      "        Predict yes\n"
     ]
    }
   ],
   "source": [
    "# Build the decision tree\n",
    "decision_tree = build_tree(pd_data, \"class_buys_computer\")\n",
    "\n",
    "# Print the decision tree\n",
    "print_tree(decision_tree)"
   ],
   "metadata": {
    "collapsed": false,
    "ExecuteTime": {
     "end_time": "2023-08-08T04:52:19.351409264Z",
     "start_time": "2023-08-08T04:52:19.308473030Z"
    }
   }
  },
  {
   "cell_type": "code",
   "execution_count": 26,
   "outputs": [
    {
     "name": "stdout",
     "output_type": "stream",
     "text": [
      "Tree with max depth 1:\n",
      "[age == middle_aged]\n",
      "--> True:\n",
      "  Predict yes\n",
      "--> False:\n",
      "  Predict no\n",
      "\n",
      "==================================================\n",
      "\n",
      "Tree with max depth 2:\n",
      "[age == middle_aged]\n",
      "--> True:\n",
      "  Predict yes\n",
      "--> False:\n",
      "  [student == no]\n",
      "  --> True:\n",
      "    Predict no\n",
      "  --> False:\n",
      "    Predict yes\n",
      "\n",
      "==================================================\n",
      "\n",
      "Tree with max depth 3:\n",
      "[age == middle_aged]\n",
      "--> True:\n",
      "  Predict yes\n",
      "--> False:\n",
      "  [student == no]\n",
      "  --> True:\n",
      "    [age == youth]\n",
      "    --> True:\n",
      "      Predict no\n",
      "    --> False:\n",
      "      Predict yes\n",
      "  --> False:\n",
      "    [credit_rating == fair]\n",
      "    --> True:\n",
      "      Predict yes\n",
      "    --> False:\n",
      "      Predict no\n",
      "\n",
      "==================================================\n",
      "\n",
      "Tree with max depth 4:\n",
      "[age == middle_aged]\n",
      "--> True:\n",
      "  Predict yes\n",
      "--> False:\n",
      "  [student == no]\n",
      "  --> True:\n",
      "    [age == youth]\n",
      "    --> True:\n",
      "      Predict no\n",
      "    --> False:\n",
      "      [credit_rating == fair]\n",
      "      --> True:\n",
      "        Predict yes\n",
      "      --> False:\n",
      "        Predict no\n",
      "  --> False:\n",
      "    [credit_rating == fair]\n",
      "    --> True:\n",
      "      Predict yes\n",
      "    --> False:\n",
      "      [age == senior]\n",
      "      --> True:\n",
      "        Predict no\n",
      "      --> False:\n",
      "        Predict yes\n",
      "\n",
      "==================================================\n",
      "\n",
      "Tree with max depth 5:\n",
      "[age == middle_aged]\n",
      "--> True:\n",
      "  Predict yes\n",
      "--> False:\n",
      "  [student == no]\n",
      "  --> True:\n",
      "    [age == youth]\n",
      "    --> True:\n",
      "      Predict no\n",
      "    --> False:\n",
      "      [credit_rating == fair]\n",
      "      --> True:\n",
      "        Predict yes\n",
      "      --> False:\n",
      "        Predict no\n",
      "  --> False:\n",
      "    [credit_rating == fair]\n",
      "    --> True:\n",
      "      Predict yes\n",
      "    --> False:\n",
      "      [age == senior]\n",
      "      --> True:\n",
      "        Predict no\n",
      "      --> False:\n",
      "        Predict yes\n",
      "\n",
      "==================================================\n"
     ]
    }
   ],
   "source": [
    "max_depths = []\n",
    "for i in range(1, tree_depth(decision_tree) + 1):\n",
    "    tree_with_max_depth = build_tree(pd_data, \"class_buys_computer\", max_depth=i)\n",
    "    max_depths.append(tree_with_max_depth)\n",
    "    print(f\"Tree with max depth {i}:\")\n",
    "    print_tree(tree_with_max_depth)\n",
    "    print(\"\\n\" + \"=\"*50 + \"\\n\")"
   ],
   "metadata": {
    "collapsed": false,
    "ExecuteTime": {
     "end_time": "2023-08-08T04:52:25.310238524Z",
     "start_time": "2023-08-08T04:52:25.231577477Z"
    }
   }
  },
  {
   "cell_type": "markdown",
   "source": [],
   "metadata": {
    "collapsed": false
   }
  },
  {
   "cell_type": "markdown",
   "source": [
    "- 최대 깊이 1: *'age'* 만을 사용하여 분류\n",
    "- 최대 깊이 2: *'age'* 와 *'student'* 를 사용하여 분류\n",
    "- 최대 깊이 3: *'age'* 와 *'student'* 그리고 *'credit_rating'* 을 사용하여 분류\n",
    "- 최대 깊이 4: *'age'* 와 *'student'* 그리고 *'credit_rating'* 및 또 다른 *'age'* 조건을 사용하여 분류\n",
    "\n",
    "최대 깊이 5의 트리는 최대 깊이 트리 4와 똑같이 보인다. 이는 데이터셋에서 더이상 분할할 수 있는 특징이 없기 때문이다."
   ],
   "metadata": {
    "collapsed": false
   }
  }
 ],
 "metadata": {
  "kernelspec": {
   "display_name": "Python 3",
   "language": "python",
   "name": "python3"
  },
  "language_info": {
   "codemirror_mode": {
    "name": "ipython",
    "version": 3
   },
   "file_extension": ".py",
   "mimetype": "text/x-python",
   "name": "python",
   "nbconvert_exporter": "python",
   "pygments_lexer": "ipython3",
   "version": "3.7.3"
  },
  "toc": {
   "base_numbering": 1,
   "nav_menu": {},
   "number_sections": true,
   "sideBar": true,
   "skip_h1_title": false,
   "title_cell": "Table of Contents",
   "title_sidebar": "Contents",
   "toc_cell": false,
   "toc_position": {},
   "toc_section_display": true,
   "toc_window_display": false
  }
 },
 "nbformat": 4,
 "nbformat_minor": 4
}
