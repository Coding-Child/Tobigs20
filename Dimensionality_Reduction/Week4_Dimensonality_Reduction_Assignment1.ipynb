{
 "cells": [
  {
   "cell_type": "markdown",
   "metadata": {
    "id": "zU92BX-5Pgsm"
   },
   "source": [
    "# 차원축소 Assignment1"
   ]
  },
  {
   "cell_type": "markdown",
   "metadata": {
    "id": "b15X2e8HPgsn"
   },
   "source": [
    "# ''' ? ''' 이 있는 부분을 채워주세요 \n",
    "\n",
    "참고하셔야 하는 함수들은 링크 달아드렸으니 들어가서 확인해보세요\n",
    "\n",
    "무작정 빈칸 채우기가 아니라 꼭 차원축소 과정을 이해하시면서 과제를 진행하시면 좋겠습니다!!!\n",
    "\n",
    "또 질문은 언제나 환영이니 과제하다가 궁금하신것 있으시면 자유롭게 물어보세요!!"
   ]
  },
  {
   "cell_type": "markdown",
   "metadata": {
    "id": "VHM2ow0gPgsn"
   },
   "source": [
    "# 1) PCA의 과정 차근차근 밟아보기"
   ]
  },
  {
   "cell_type": "code",
   "execution_count": 1,
   "metadata": {
    "executionInfo": {
     "elapsed": 901,
     "status": "ok",
     "timestamp": 1629794503787,
     "user": {
      "displayName": "김건우",
      "photoUrl": "https://lh3.googleusercontent.com/a-/AOh14GifAuBZsXu6RawBPfBoYmIJaUQ0zRxVy1udxOxf=s64",
      "userId": "13140730798096026130"
     },
     "user_tz": -540
    },
    "id": "tpoi2PmKPgsn",
    "ExecuteTime": {
     "end_time": "2023-08-13T14:48:51.328100142Z",
     "start_time": "2023-08-13T14:48:50.969192992Z"
    }
   },
   "outputs": [],
   "source": [
    "#기본 모듈 불러오기\n",
    "import numpy as np\n",
    "import numpy.linalg as lin\n",
    "import matplotlib.pyplot as plt\n",
    "import pandas as pd\n",
    "import random"
   ]
  },
  {
   "cell_type": "code",
   "execution_count": 2,
   "metadata": {
    "executionInfo": {
     "elapsed": 16,
     "status": "ok",
     "timestamp": 1629794504693,
     "user": {
      "displayName": "김건우",
      "photoUrl": "https://lh3.googleusercontent.com/a-/AOh14GifAuBZsXu6RawBPfBoYmIJaUQ0zRxVy1udxOxf=s64",
      "userId": "13140730798096026130"
     },
     "user_tz": -540
    },
    "id": "ZcFtAQxoPgsn",
    "ExecuteTime": {
     "end_time": "2023-08-13T14:48:51.337724506Z",
     "start_time": "2023-08-13T14:48:51.329937162Z"
    }
   },
   "outputs": [],
   "source": [
    "#설명변수 x1, x2, x3\n",
    "x1 = [95, 91, 66, 94, 68, 63, 12, 73, 93, 51, 13, 70, 63, 63, 97, 56, 67, 96, 75, 6]\n",
    "x2 = [56, 27, 25, 1, 9, 80, 92, 69, 6, 25, 83, 82, 54, 97, 66, 93, 76, 59, 94, 9]\n",
    "x3 = [57, 34, 9, 79, 4, 77, 100, 42, 6, 96, 61, 66, 9, 25, 84, 46, 16, 63, 53, 30]"
   ]
  },
  {
   "cell_type": "code",
   "execution_count": 3,
   "metadata": {
    "executionInfo": {
     "elapsed": 18,
     "status": "ok",
     "timestamp": 1629794504695,
     "user": {
      "displayName": "김건우",
      "photoUrl": "https://lh3.googleusercontent.com/a-/AOh14GifAuBZsXu6RawBPfBoYmIJaUQ0zRxVy1udxOxf=s64",
      "userId": "13140730798096026130"
     },
     "user_tz": -540
    },
    "id": "QB3ElSfuPgso",
    "ExecuteTime": {
     "end_time": "2023-08-13T14:48:51.345211677Z",
     "start_time": "2023-08-13T14:48:51.332490696Z"
    }
   },
   "outputs": [],
   "source": [
    "#   설명변수들을 하나의 행렬로\n",
    "X = np.stack((x1,x2,x3),axis=0)"
   ]
  },
  {
   "cell_type": "code",
   "execution_count": 4,
   "metadata": {
    "executionInfo": {
     "elapsed": 18,
     "status": "ok",
     "timestamp": 1629794504695,
     "user": {
      "displayName": "김건우",
      "photoUrl": "https://lh3.googleusercontent.com/a-/AOh14GifAuBZsXu6RawBPfBoYmIJaUQ0zRxVy1udxOxf=s64",
      "userId": "13140730798096026130"
     },
     "user_tz": -540
    },
    "id": "WRc6gLv2Pgso",
    "ExecuteTime": {
     "end_time": "2023-08-13T14:48:51.356723115Z",
     "start_time": "2023-08-13T14:48:51.342417362Z"
    }
   },
   "outputs": [],
   "source": [
    "X = pd.DataFrame(X.T,columns=['x1','x2','x3'])"
   ]
  },
  {
   "cell_type": "code",
   "execution_count": 5,
   "metadata": {
    "colab": {
     "base_uri": "https://localhost:8080/",
     "height": 665
    },
    "executionInfo": {
     "elapsed": 18,
     "status": "ok",
     "timestamp": 1629794504696,
     "user": {
      "displayName": "김건우",
      "photoUrl": "https://lh3.googleusercontent.com/a-/AOh14GifAuBZsXu6RawBPfBoYmIJaUQ0zRxVy1udxOxf=s64",
      "userId": "13140730798096026130"
     },
     "user_tz": -540
    },
    "id": "6YYdgIxXPgso",
    "outputId": "c21dd528-bba9-4d43-b09b-db339f267be0",
    "ExecuteTime": {
     "end_time": "2023-08-13T14:48:52.027460186Z",
     "start_time": "2023-08-13T14:48:52.016475618Z"
    }
   },
   "outputs": [
    {
     "data": {
      "text/plain": "    x1  x2   x3\n0   95  56   57\n1   91  27   34\n2   66  25    9\n3   94   1   79\n4   68   9    4\n5   63  80   77\n6   12  92  100\n7   73  69   42\n8   93   6    6\n9   51  25   96\n10  13  83   61\n11  70  82   66\n12  63  54    9\n13  63  97   25\n14  97  66   84\n15  56  93   46\n16  67  76   16\n17  96  59   63\n18  75  94   53\n19   6   9   30",
      "text/html": "<div>\n<style scoped>\n    .dataframe tbody tr th:only-of-type {\n        vertical-align: middle;\n    }\n\n    .dataframe tbody tr th {\n        vertical-align: top;\n    }\n\n    .dataframe thead th {\n        text-align: right;\n    }\n</style>\n<table border=\"1\" class=\"dataframe\">\n  <thead>\n    <tr style=\"text-align: right;\">\n      <th></th>\n      <th>x1</th>\n      <th>x2</th>\n      <th>x3</th>\n    </tr>\n  </thead>\n  <tbody>\n    <tr>\n      <th>0</th>\n      <td>95</td>\n      <td>56</td>\n      <td>57</td>\n    </tr>\n    <tr>\n      <th>1</th>\n      <td>91</td>\n      <td>27</td>\n      <td>34</td>\n    </tr>\n    <tr>\n      <th>2</th>\n      <td>66</td>\n      <td>25</td>\n      <td>9</td>\n    </tr>\n    <tr>\n      <th>3</th>\n      <td>94</td>\n      <td>1</td>\n      <td>79</td>\n    </tr>\n    <tr>\n      <th>4</th>\n      <td>68</td>\n      <td>9</td>\n      <td>4</td>\n    </tr>\n    <tr>\n      <th>5</th>\n      <td>63</td>\n      <td>80</td>\n      <td>77</td>\n    </tr>\n    <tr>\n      <th>6</th>\n      <td>12</td>\n      <td>92</td>\n      <td>100</td>\n    </tr>\n    <tr>\n      <th>7</th>\n      <td>73</td>\n      <td>69</td>\n      <td>42</td>\n    </tr>\n    <tr>\n      <th>8</th>\n      <td>93</td>\n      <td>6</td>\n      <td>6</td>\n    </tr>\n    <tr>\n      <th>9</th>\n      <td>51</td>\n      <td>25</td>\n      <td>96</td>\n    </tr>\n    <tr>\n      <th>10</th>\n      <td>13</td>\n      <td>83</td>\n      <td>61</td>\n    </tr>\n    <tr>\n      <th>11</th>\n      <td>70</td>\n      <td>82</td>\n      <td>66</td>\n    </tr>\n    <tr>\n      <th>12</th>\n      <td>63</td>\n      <td>54</td>\n      <td>9</td>\n    </tr>\n    <tr>\n      <th>13</th>\n      <td>63</td>\n      <td>97</td>\n      <td>25</td>\n    </tr>\n    <tr>\n      <th>14</th>\n      <td>97</td>\n      <td>66</td>\n      <td>84</td>\n    </tr>\n    <tr>\n      <th>15</th>\n      <td>56</td>\n      <td>93</td>\n      <td>46</td>\n    </tr>\n    <tr>\n      <th>16</th>\n      <td>67</td>\n      <td>76</td>\n      <td>16</td>\n    </tr>\n    <tr>\n      <th>17</th>\n      <td>96</td>\n      <td>59</td>\n      <td>63</td>\n    </tr>\n    <tr>\n      <th>18</th>\n      <td>75</td>\n      <td>94</td>\n      <td>53</td>\n    </tr>\n    <tr>\n      <th>19</th>\n      <td>6</td>\n      <td>9</td>\n      <td>30</td>\n    </tr>\n  </tbody>\n</table>\n</div>"
     },
     "execution_count": 5,
     "metadata": {},
     "output_type": "execute_result"
    }
   ],
   "source": [
    "X"
   ]
  },
  {
   "cell_type": "markdown",
   "metadata": {
    "id": "NTRZsZjkPgso"
   },
   "source": [
    "### 1-1) 먼저 PCA를 시작하기 전 데이터 scaling!!!! 매우 중요합니다!\n",
    "\n",
    "https://datascienceschool.net/03%20machine%20learning/02.01%20%EB%8D%B0%EC%9D%B4%ED%84%B0%20%EC%A0%84%EC%B2%98%EB%A6%AC%20%EA%B8%B0%EC%B4%88.html?highlight=%EC%A0%84%EC%B2%98%EB%A6%AC  를 참고하시면 도움이 될거에요"
   ]
  },
  {
   "cell_type": "code",
   "execution_count": 6,
   "metadata": {
    "colab": {
     "base_uri": "https://localhost:8080/"
    },
    "executionInfo": {
     "elapsed": 255,
     "status": "ok",
     "timestamp": 1629794771272,
     "user": {
      "displayName": "김건우",
      "photoUrl": "https://lh3.googleusercontent.com/a-/AOh14GifAuBZsXu6RawBPfBoYmIJaUQ0zRxVy1udxOxf=s64",
      "userId": "13140730798096026130"
     },
     "user_tz": -540
    },
    "id": "urxrwxdJvBre",
    "outputId": "fc424ba8-1f5e-47a6-b8d8-a5c51ba8a3f5",
    "ExecuteTime": {
     "end_time": "2023-08-13T14:48:55.944760666Z",
     "start_time": "2023-08-13T14:48:55.676502212Z"
    }
   },
   "outputs": [
    {
     "data": {
      "text/plain": "array([[ 1.08573604,  0.02614175,  0.30684189],\n       [ 0.93801686, -0.86575334, -0.46445467],\n       [ 0.01477192, -0.92726334, -1.30282049],\n       [ 1.04880625, -1.66538341,  1.04460382],\n       [ 0.08863151, -1.41934339, -1.47049366],\n       [-0.09601747,  0.76426183,  0.97753455],\n       [-1.97943714,  1.13332186,  1.74883111],\n       [ 0.2732805 ,  0.42595679, -0.1961776 ],\n       [ 1.01187645, -1.5116084 , -1.40342439],\n       [-0.53917504, -0.92726334,  1.61469258],\n       [-1.94250735,  0.85652683,  0.44098042],\n       [ 0.16249111,  0.82577183,  0.60865359],\n       [-0.09601747, -0.03536825, -1.30282049],\n       [-0.09601747,  1.28709688, -0.76626636],\n       [ 1.15959564,  0.33369178,  1.21227698],\n       [-0.35452606,  1.16407687, -0.06203907],\n       [ 0.05170172,  0.64124181, -1.06807806],\n       [ 1.12266584,  0.11840676,  0.50804969],\n       [ 0.3471401 ,  1.19483187,  0.17270336],\n       [-2.20101593, -1.41934339, -0.5985932 ]])"
     },
     "execution_count": 6,
     "metadata": {},
     "output_type": "execute_result"
    }
   ],
   "source": [
    "#scaling\n",
    "from sklearn.preprocessing import StandardScaler\n",
    "\n",
    "scaler = StandardScaler()\n",
    "X_std = scaler.fit_transform(X)\n",
    "X_std"
   ]
  },
  {
   "cell_type": "code",
   "execution_count": 7,
   "metadata": {
    "executionInfo": {
     "elapsed": 13,
     "status": "ok",
     "timestamp": 1629794504696,
     "user": {
      "displayName": "김건우",
      "photoUrl": "https://lh3.googleusercontent.com/a-/AOh14GifAuBZsXu6RawBPfBoYmIJaUQ0zRxVy1udxOxf=s64",
      "userId": "13140730798096026130"
     },
     "user_tz": -540
    },
    "id": "TjuIDQNMPgsp",
    "ExecuteTime": {
     "end_time": "2023-08-13T14:49:06.592708396Z",
     "start_time": "2023-08-13T14:49:06.588369012Z"
    }
   },
   "outputs": [],
   "source": [
    "features = X_std.T"
   ]
  },
  {
   "cell_type": "code",
   "execution_count": 8,
   "metadata": {
    "colab": {
     "base_uri": "https://localhost:8080/"
    },
    "executionInfo": {
     "elapsed": 13,
     "status": "ok",
     "timestamp": 1629794504697,
     "user": {
      "displayName": "김건우",
      "photoUrl": "https://lh3.googleusercontent.com/a-/AOh14GifAuBZsXu6RawBPfBoYmIJaUQ0zRxVy1udxOxf=s64",
      "userId": "13140730798096026130"
     },
     "user_tz": -540
    },
    "id": "9Z5Hpvl3vnfp",
    "outputId": "1fc37c2f-6b20-46c6-aad9-9ebd48805658",
    "ExecuteTime": {
     "end_time": "2023-08-13T14:49:07.782466867Z",
     "start_time": "2023-08-13T14:49:07.779918628Z"
    }
   },
   "outputs": [
    {
     "data": {
      "text/plain": "array([[ 1.08573604,  0.93801686,  0.01477192,  1.04880625,  0.08863151,\n        -0.09601747, -1.97943714,  0.2732805 ,  1.01187645, -0.53917504,\n        -1.94250735,  0.16249111, -0.09601747, -0.09601747,  1.15959564,\n        -0.35452606,  0.05170172,  1.12266584,  0.3471401 , -2.20101593],\n       [ 0.02614175, -0.86575334, -0.92726334, -1.66538341, -1.41934339,\n         0.76426183,  1.13332186,  0.42595679, -1.5116084 , -0.92726334,\n         0.85652683,  0.82577183, -0.03536825,  1.28709688,  0.33369178,\n         1.16407687,  0.64124181,  0.11840676,  1.19483187, -1.41934339],\n       [ 0.30684189, -0.46445467, -1.30282049,  1.04460382, -1.47049366,\n         0.97753455,  1.74883111, -0.1961776 , -1.40342439,  1.61469258,\n         0.44098042,  0.60865359, -1.30282049, -0.76626636,  1.21227698,\n        -0.06203907, -1.06807806,  0.50804969,  0.17270336, -0.5985932 ]])"
     },
     "execution_count": 8,
     "metadata": {},
     "output_type": "execute_result"
    }
   ],
   "source": [
    "features"
   ]
  },
  {
   "cell_type": "markdown",
   "metadata": {
    "id": "3HHTB65iPgsp"
   },
   "source": [
    "### 1-2) 다음으로 공분산 행렬을 구합니다\n",
    "\n",
    "https://docs.scipy.org/doc/numpy/reference/generated/numpy.cov.html 를 참고하시면 도움이 될거에요"
   ]
  },
  {
   "cell_type": "code",
   "execution_count": 9,
   "metadata": {
    "executionInfo": {
     "elapsed": 11,
     "status": "ok",
     "timestamp": 1629794504697,
     "user": {
      "displayName": "김건우",
      "photoUrl": "https://lh3.googleusercontent.com/a-/AOh14GifAuBZsXu6RawBPfBoYmIJaUQ0zRxVy1udxOxf=s64",
      "userId": "13140730798096026130"
     },
     "user_tz": -540
    },
    "id": "lZ2KT6M3Pgsq",
    "scrolled": true,
    "ExecuteTime": {
     "end_time": "2023-08-13T14:51:42.324238135Z",
     "start_time": "2023-08-13T14:51:42.283206195Z"
    }
   },
   "outputs": [],
   "source": [
    "cov_x = np.cov(features)"
   ]
  },
  {
   "cell_type": "code",
   "execution_count": 10,
   "outputs": [
    {
     "data": {
      "text/plain": "array([[ 1.05263158, -0.2037104 , -0.12079228],\n       [-0.2037104 ,  1.05263158,  0.3125801 ],\n       [-0.12079228,  0.3125801 ,  1.05263158]])"
     },
     "execution_count": 10,
     "metadata": {},
     "output_type": "execute_result"
    }
   ],
   "source": [
    "cov_x"
   ],
   "metadata": {
    "collapsed": false,
    "ExecuteTime": {
     "end_time": "2023-08-13T14:51:44.495229864Z",
     "start_time": "2023-08-13T14:51:44.487315172Z"
    }
   }
  },
  {
   "cell_type": "markdown",
   "metadata": {
    "id": "LDPacia_Pgsq"
   },
   "source": [
    "### 1-3) 이제 고유값과 고유벡터를 구합니다\n",
    "\n",
    "실습코드를 참고해주세요"
   ]
  },
  {
   "cell_type": "code",
   "execution_count": 27,
   "metadata": {
    "executionInfo": {
     "elapsed": 3,
     "status": "ok",
     "timestamp": 1629794506645,
     "user": {
      "displayName": "김건우",
      "photoUrl": "https://lh3.googleusercontent.com/a-/AOh14GifAuBZsXu6RawBPfBoYmIJaUQ0zRxVy1udxOxf=s64",
      "userId": "13140730798096026130"
     },
     "user_tz": -540
    },
    "id": "u850XjOtv3b9",
    "ExecuteTime": {
     "end_time": "2023-08-13T15:12:50.794378970Z",
     "start_time": "2023-08-13T15:12:50.790000052Z"
    }
   },
   "outputs": [],
   "source": [
    "import numpy.linalg as lin\n",
    "\n",
    "eigenvalues, eigenvectors = lin.eig(cov_x)"
   ]
  },
  {
   "cell_type": "code",
   "execution_count": 28,
   "outputs": [
    {
     "data": {
      "text/plain": "array([1.48756162, 0.94435407, 0.72597904])"
     },
     "execution_count": 28,
     "metadata": {},
     "output_type": "execute_result"
    }
   ],
   "source": [
    "eigenvalues"
   ],
   "metadata": {
    "collapsed": false,
    "ExecuteTime": {
     "end_time": "2023-08-13T15:12:51.079926938Z",
     "start_time": "2023-08-13T15:12:51.076623651Z"
    }
   }
  },
  {
   "cell_type": "code",
   "execution_count": 29,
   "outputs": [
    {
     "data": {
      "text/plain": "array([[ 0.47018528, -0.85137353, -0.23257022],\n       [-0.64960236, -0.15545725, -0.74421087],\n       [-0.59744671, -0.50099516,  0.62614797]])"
     },
     "execution_count": 29,
     "metadata": {},
     "output_type": "execute_result"
    }
   ],
   "source": [
    "eigenvectors"
   ],
   "metadata": {
    "collapsed": false,
    "ExecuteTime": {
     "end_time": "2023-08-13T15:12:51.372646272Z",
     "start_time": "2023-08-13T15:12:51.329528945Z"
    }
   }
  },
  {
   "cell_type": "markdown",
   "metadata": {
    "id": "--C9kkKDPgsr"
   },
   "source": [
    "### 1-4) 고유값 분해: 고유값 분해의 곱으로 원래 공분산 행렬을 구해봅니다\n",
    "\n",
    "https://docs.scipy.org/doc/numpy/reference/generated/numpy.dot.html 를 참고해주세요\n",
    "\n",
    "$A = P Λ P^{\\prime}$\n",
    "이 식 기억나죠?"
   ]
  },
  {
   "cell_type": "code",
   "execution_count": 30,
   "metadata": {
    "ExecuteTime": {
     "end_time": "2023-08-13T15:12:51.867685286Z",
     "start_time": "2023-08-13T15:12:51.865516329Z"
    }
   },
   "outputs": [],
   "source": [
    "diagonal_mat = np.diag(eigenvalues)\n",
    "recon = np.dot(np.dot(eigenvectors, diagonal_mat), eigenvectors.T)"
   ]
  },
  {
   "cell_type": "code",
   "execution_count": 31,
   "outputs": [
    {
     "data": {
      "text/plain": "array([[ 1.05263158, -0.2037104 , -0.12079228],\n       [-0.2037104 ,  1.05263158,  0.3125801 ],\n       [-0.12079228,  0.3125801 ,  1.05263158]])"
     },
     "execution_count": 31,
     "metadata": {},
     "output_type": "execute_result"
    }
   ],
   "source": [
    "recon"
   ],
   "metadata": {
    "collapsed": false,
    "ExecuteTime": {
     "end_time": "2023-08-13T15:12:52.167037759Z",
     "start_time": "2023-08-13T15:12:52.163261969Z"
    }
   }
  },
  {
   "cell_type": "markdown",
   "metadata": {
    "id": "N4t2RjoNPgss"
   },
   "source": [
    "### 1-5) 마지막으로 고유 벡터 축으로 값을 변환합니다\n",
    "\n",
    "\n",
    "https://docs.scipy.org/doc/numpy/reference/generated/numpy.concatenate.html"
   ]
  },
  {
   "cell_type": "code",
   "execution_count": 32,
   "metadata": {
    "executionInfo": {
     "elapsed": 2,
     "status": "ok",
     "timestamp": 1629794510015,
     "user": {
      "displayName": "김건우",
      "photoUrl": "https://lh3.googleusercontent.com/a-/AOh14GifAuBZsXu6RawBPfBoYmIJaUQ0zRxVy1udxOxf=s64",
      "userId": "13140730798096026130"
     },
     "user_tz": -540
    },
    "id": "HkhBLg0jPgss",
    "ExecuteTime": {
     "end_time": "2023-08-13T15:12:53.113485045Z",
     "start_time": "2023-08-13T15:12:53.111135757Z"
    }
   },
   "outputs": [],
   "source": [
    "def new_coordinates(X, eigenvectors):\n",
    "    combined_eigenvectors = np.concatenate([vec[:, np.newaxis] for vec in eigenvectors.T], axis=1)\n",
    "    \n",
    "    return np.dot(X, combined_eigenvectors)"
   ]
  },
  {
   "cell_type": "markdown",
   "metadata": {
    "id": "B7c1o5URPgst"
   },
   "source": [
    "# 2) PCA를 구현해보기\n",
    "\n",
    "위의 과정을 하나의 함수로 표현해주세요!\n",
    "\n",
    "1)에서 진행한 과정을 그대로 가져오면 됩니다..! , \n",
    "\n",
    "위에서 만든 함수(new_coordinate)도 가져오셔서 사용해도 좋아요!\n",
    "\n",
    "+하지만 이 함수는 number이라는 인자를 받아서 pca에서 주성분 개수를 고려하도록 합니다!\n",
    "\n",
    "고유값이 큰 축 순서로 정렬하는 과정 + 주성분 개수 number을 고려해야한다는 점을 유의해서 함수를 정의해주세요\n"
   ]
  },
  {
   "cell_type": "code",
   "execution_count": 33,
   "metadata": {
    "colab": {
     "base_uri": "https://localhost:8080/"
    },
    "executionInfo": {
     "elapsed": 272,
     "status": "ok",
     "timestamp": 1629794797564,
     "user": {
      "displayName": "김건우",
      "photoUrl": "https://lh3.googleusercontent.com/a-/AOh14GifAuBZsXu6RawBPfBoYmIJaUQ0zRxVy1udxOxf=s64",
      "userId": "13140730798096026130"
     },
     "user_tz": -540
    },
    "id": "P_cF1LnX6eBh",
    "outputId": "b644f825-9c82-4573-ea35-20b5a3ea0d56",
    "ExecuteTime": {
     "end_time": "2023-08-13T15:12:55.024061033Z",
     "start_time": "2023-08-13T15:12:55.020285388Z"
    }
   },
   "outputs": [
    {
     "data": {
      "text/plain": "array([[ 0.47018528, -0.85137353, -0.23257022],\n       [-0.64960236, -0.15545725, -0.74421087],\n       [-0.59744671, -0.50099516,  0.62614797]])"
     },
     "execution_count": 33,
     "metadata": {},
     "output_type": "execute_result"
    }
   ],
   "source": [
    "eigenvectors"
   ]
  },
  {
   "cell_type": "code",
   "execution_count": 41,
   "metadata": {
    "executionInfo": {
     "elapsed": 405,
     "status": "ok",
     "timestamp": 1629794918195,
     "user": {
      "displayName": "김건우",
      "photoUrl": "https://lh3.googleusercontent.com/a-/AOh14GifAuBZsXu6RawBPfBoYmIJaUQ0zRxVy1udxOxf=s64",
      "userId": "13140730798096026130"
     },
     "user_tz": -540
    },
    "id": "5qOrSvvZPgst",
    "ExecuteTime": {
     "end_time": "2023-08-13T15:22:28.988262383Z",
     "start_time": "2023-08-13T15:22:28.939461166Z"
    }
   },
   "outputs": [],
   "source": [
    "from sklearn.preprocessing import StandardScaler\n",
    "\n",
    "def MYPCA(X, number):\n",
    "    # Scaling\n",
    "    scaler = StandardScaler()\n",
    "    features = scaler.fit_transform(X).T\n",
    "    \n",
    "    # Covariance\n",
    "    cov = np.cov(features)\n",
    "    # eigenvalues, eigenvectors\n",
    "    eigenvalues, eigenvectors = lin.eig(cov)\n",
    "    # 고유값 정렬 및 고유값 크기에 따라 고유벡터도 정렬\n",
    "    sorted_indices = np.argsort(eigenvalues)[::-1]\n",
    "    sorted_eigenvectors = eigenvectors[:, sorted_indices]\n",
    "    selected_eigenvectors = sorted_eigenvectors[:, : number]\n",
    "    #def new_coordinates(X,eigenvectors):\n",
    "    pca_data = new_coordinates(X, selected_eigenvectors)\n",
    "\n",
    "    return pca_data"
   ]
  },
  {
   "cell_type": "code",
   "execution_count": 42,
   "metadata": {
    "id": "XAtXIzPHPgst",
    "outputId": "a31eef56-131b-4c5b-e852-db115b7c67a2",
    "scrolled": true,
    "ExecuteTime": {
     "end_time": "2023-08-13T15:22:35.291942745Z",
     "start_time": "2023-08-13T15:22:35.283815416Z"
    }
   },
   "outputs": [
    {
     "data": {
      "text/plain": "array([[ -25.76459322, -118.14281563,  -28.07954506],\n       [   4.93440853,  -98.70617271,  -19.96855233],\n       [   9.41514902,  -64.58604088,  -28.31957436],\n       [  -3.65047618, -119.76318703,   26.85987816],\n       [  23.73639094,  -61.29649622,  -20.00808077],\n       [ -68.34991312, -104.64973959,  -25.97539951],\n       [-113.86586512,  -74.61806491,   -8.6434455 ],\n       [ -35.59179944,  -93.91861469,  -42.02996106],\n       [  36.24493662,  -83.11645317,  -22.33740768],\n       [ -49.61549403,  -95.40201664,   29.64385221],\n       [ -84.24883684,  -54.53151206,  -26.5978887 ],\n       [ -59.78590706, -105.40932209,  -35.97944043],\n       [ -10.83387534,  -66.54018042,  -49.20397885],\n       [ -48.32592432,  -81.24076455,  -71.18667863],\n       [ -47.45130749, -134.92700444,  -19.080799  ],\n       [ -61.56519276,  -85.18021914,  -53.43273629],\n       [ -27.42651318,  -76.87270009,  -62.12386301],\n       [ -30.8278953 , -122.46653186,  -26.78786006],\n       [ -57.46340178, -105.01873966,  -54.21274552],\n       [ -20.94871091,  -21.53721118,   10.69111995]])"
     },
     "execution_count": 42,
     "metadata": {},
     "output_type": "execute_result"
    }
   ],
   "source": [
    "MYPCA(X,3)\n",
    "\n",
    "# 새로운 축으로 잘 변환되어서 나타나나요?\n",
    "# 위에서 했던 PCA랑은 차이가 있을 수 있어요 \n",
    "# 왜냐하면 위에서는 고유값이 큰 축 순서로 정렬을 안했었거든요"
   ]
  },
  {
   "cell_type": "markdown",
   "metadata": {
    "id": "Q8E2iMssPgsu"
   },
   "source": [
    "# 3) sklearn이랑 비교를 해보기\n",
    "\n",
    "https://scikit-learn.org/stable/modules/generated/sklearn.decomposition.PCA.html 를 참고하시면 도움이 될거에요"
   ]
  },
  {
   "cell_type": "code",
   "execution_count": 43,
   "metadata": {
    "id": "YLelmhAXPgsu",
    "ExecuteTime": {
     "end_time": "2023-08-13T15:23:15.769419766Z",
     "start_time": "2023-08-13T15:23:15.721451251Z"
    }
   },
   "outputs": [],
   "source": [
    "from sklearn.decomposition import PCA\n",
    "pca = PCA(n_components=3)"
   ]
  },
  {
   "cell_type": "code",
   "execution_count": 45,
   "metadata": {
    "id": "b23tW08RPgsu",
    "outputId": "ec080ca6-8984-4a5a-8588-62dd2278165e",
    "ExecuteTime": {
     "end_time": "2023-08-13T15:23:24.937296108Z",
     "start_time": "2023-08-13T15:23:24.895081160Z"
    }
   },
   "outputs": [
    {
     "data": {
      "text/plain": "array([[ -3.16664013,  25.73014729, -16.63541135],\n       [-37.1741275 ,  14.15741953,  -6.85978988],\n       [-45.12554929, -19.54144258,   0.56729463],\n       [-32.8526285 ,  54.41554996,  25.86035041],\n       [-60.85528673, -17.7154455 ,   6.41888372],\n       [ 36.27391963,  12.57704836,  -0.16002867],\n       [ 73.94814432,  -8.03916032,  37.65034998],\n       [  5.12437148,  -2.70272589, -15.72390186],\n       [-69.65671671,   1.02480097,  -8.04963357],\n       [  8.2551067 ,  31.85408946,  48.5569274 ],\n       [ 44.83497197, -32.60949489,  25.33280741],\n       [ 29.50965992,   8.95926233, -10.89112437],\n       [-21.89034418, -28.82633994, -14.39652588],\n       [ 20.18393316, -28.36327038, -32.68698114],\n       [ 19.06981735,  43.5771515 , -12.16054826],\n       [ 31.01935557, -17.19166064, -16.44540618],\n       [ -2.24771829, -26.77360255, -27.00420281],\n       [  2.2042456 ,  29.86881558, -16.47726182],\n       [ 29.92949938,   0.08950302, -26.98929521],\n       [-27.38401373, -40.49064529,  60.09349745]])"
     },
     "execution_count": 45,
     "metadata": {},
     "output_type": "execute_result"
    }
   ],
   "source": [
    "pca_data = pca.fit_transform(X)\n",
    "pca_data"
   ]
  },
  {
   "cell_type": "code",
   "execution_count": 46,
   "metadata": {
    "id": "4LuSOZgVPgsu",
    "outputId": "dd069c4a-cebe-47eb-ca61-c43ae1cc2550",
    "ExecuteTime": {
     "end_time": "2023-08-13T15:23:27.727569387Z",
     "start_time": "2023-08-13T15:23:27.724029612Z"
    }
   },
   "outputs": [
    {
     "data": {
      "text/plain": "array([[ -25.76459322, -118.14281563,  -28.07954506],\n       [   4.93440853,  -98.70617271,  -19.96855233],\n       [   9.41514902,  -64.58604088,  -28.31957436],\n       [  -3.65047618, -119.76318703,   26.85987816],\n       [  23.73639094,  -61.29649622,  -20.00808077],\n       [ -68.34991312, -104.64973959,  -25.97539951],\n       [-113.86586512,  -74.61806491,   -8.6434455 ],\n       [ -35.59179944,  -93.91861469,  -42.02996106],\n       [  36.24493662,  -83.11645317,  -22.33740768],\n       [ -49.61549403,  -95.40201664,   29.64385221],\n       [ -84.24883684,  -54.53151206,  -26.5978887 ],\n       [ -59.78590706, -105.40932209,  -35.97944043],\n       [ -10.83387534,  -66.54018042,  -49.20397885],\n       [ -48.32592432,  -81.24076455,  -71.18667863],\n       [ -47.45130749, -134.92700444,  -19.080799  ],\n       [ -61.56519276,  -85.18021914,  -53.43273629],\n       [ -27.42651318,  -76.87270009,  -62.12386301],\n       [ -30.8278953 , -122.46653186,  -26.78786006],\n       [ -57.46340178, -105.01873966,  -54.21274552],\n       [ -20.94871091,  -21.53721118,   10.69111995]])"
     },
     "execution_count": 46,
     "metadata": {},
     "output_type": "execute_result"
    }
   ],
   "source": [
    "MYPCA(X,3)"
   ]
  }
 ],
 "metadata": {
  "colab": {
   "name": "week5_dimensionality reduction_assignment1.ipynb",
   "provenance": []
  },
  "kernelspec": {
   "display_name": "Python 3 (ipykernel)",
   "language": "python",
   "name": "python3"
  },
  "language_info": {
   "codemirror_mode": {
    "name": "ipython",
    "version": 3
   },
   "file_extension": ".py",
   "mimetype": "text/x-python",
   "name": "python",
   "nbconvert_exporter": "python",
   "pygments_lexer": "ipython3",
   "version": "3.8.6"
  }
 },
 "nbformat": 4,
 "nbformat_minor": 1
}
